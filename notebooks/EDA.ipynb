{
 "cells": [
  {
   "cell_type": "markdown",
   "id": "41dd1039",
   "metadata": {},
   "source": [
    "# **MLB Pitch Type Analysis**\n",
    "\n",
    "## How velocity and movement effects outcome\n",
    "\n",
    "### This goal of this exercise is to create a web app for users to easily group and display outcomes between pitch types with similar components. The idea is that once a user selects the pitch type, s/he can filter the average pitch by every pitcher by its velocity, horizontal and vertical movement. Once the filters are made, a table of the filtered pitches and a scatterplot of how these pitches perform under various metrics (whiff rate, woba and expected runs/100) will also be made available.\n",
    "\n",
    "### Additionally, a histogram will be made available to display full pitch-types vs. their outcomes.\n",
    "\n",
    "#### The velocity slider is a raw number, but the movement sliders are based on a percentage rank of how much each pitch moves based on the pitch type"
   ]
  },
  {
   "cell_type": "code",
   "execution_count": 1,
   "id": "b4b903f6",
   "metadata": {},
   "outputs": [],
   "source": [
    "#import relevant libraries\n",
    "import streamlit as st\n",
    "import pandas as pd\n",
    "import plotly.express as px\n",
    "import numpy as np"
   ]
  },
  {
   "cell_type": "code",
   "execution_count": 2,
   "id": "5654ff47",
   "metadata": {},
   "outputs": [],
   "source": [
    "#read csvs into the data frame and merge input and output csv - optional export command if desired\n",
    "movement = pd.read_csv('..\\pitch_movement.csv')\n",
    "outcomes = pd.read_csv('..\\pitch-arsenal-stats.csv')\n",
    "arsenal = movement.merge(outcomes,on=['pitcher_id','pitch_type','year'])\n",
    "#arsenal.to_csv('arsenal.csv')"
   ]
  },
  {
   "cell_type": "code",
   "execution_count": 3,
   "id": "32b13154",
   "metadata": {},
   "outputs": [
    {
     "name": "stdout",
     "output_type": "stream",
     "text": [
      "<class 'pandas.core.frame.DataFrame'>\n",
      "Int64Index: 3426 entries, 0 to 3425\n",
      "Data columns (total 34 columns):\n",
      " #   Column               Non-Null Count  Dtype  \n",
      "---  ------               --------------  -----  \n",
      " 0   year                 3426 non-null   int64  \n",
      " 1   pitcher_id           3426 non-null   int64  \n",
      " 2   name                 3426 non-null   object \n",
      " 3   team_name_abbrev     3426 non-null   object \n",
      " 4   pitch_hand           3426 non-null   object \n",
      " 5   pitch_type_name      3426 non-null   object \n",
      " 6   pitch_type           3426 non-null   object \n",
      " 7   avg_speed            3426 non-null   float64\n",
      " 8   pitches_thrown       3426 non-null   int64  \n",
      " 9   total_pitches        3426 non-null   int64  \n",
      " 10  pitches_per_game     3426 non-null   float64\n",
      " 11  pitcher_break_z      3426 non-null   float64\n",
      " 12  league_break_z       3426 non-null   float64\n",
      " 13  diff_z               3426 non-null   float64\n",
      " 14  rise                 3426 non-null   int64  \n",
      " 15  pitcher_break_x      3426 non-null   float64\n",
      " 16  league_break_x       3426 non-null   float64\n",
      " 17  diff_x               3426 non-null   float64\n",
      " 18  tail                 3426 non-null   int64  \n",
      " 19  percent_rank_diff_z  3426 non-null   float64\n",
      " 20  percent_rank_diff_x  3426 non-null   float64\n",
      " 21  run_value_per_100    3426 non-null   float64\n",
      " 22  run_value            3426 non-null   int64  \n",
      " 23  pa                   3426 non-null   int64  \n",
      " 24  ba                   3426 non-null   float64\n",
      " 25  slg                  3426 non-null   float64\n",
      " 26  woba                 3426 non-null   float64\n",
      " 27  whiff_percent        3426 non-null   float64\n",
      " 28  k_percent            3426 non-null   float64\n",
      " 29  put_away             3425 non-null   float64\n",
      " 30  est_ba               3426 non-null   float64\n",
      " 31  est_slg              3426 non-null   float64\n",
      " 32  est_woba             3426 non-null   float64\n",
      " 33  hard_hit_percent     3426 non-null   float64\n",
      "dtypes: float64(21), int64(8), object(5)\n",
      "memory usage: 936.8+ KB\n"
     ]
    },
    {
     "data": {
      "text/html": [
       "<div>\n",
       "<style scoped>\n",
       "    .dataframe tbody tr th:only-of-type {\n",
       "        vertical-align: middle;\n",
       "    }\n",
       "\n",
       "    .dataframe tbody tr th {\n",
       "        vertical-align: top;\n",
       "    }\n",
       "\n",
       "    .dataframe thead th {\n",
       "        text-align: right;\n",
       "    }\n",
       "</style>\n",
       "<table border=\"1\" class=\"dataframe\">\n",
       "  <thead>\n",
       "    <tr style=\"text-align: right;\">\n",
       "      <th></th>\n",
       "      <th>year</th>\n",
       "      <th>pitcher_id</th>\n",
       "      <th>avg_speed</th>\n",
       "      <th>pitches_thrown</th>\n",
       "      <th>total_pitches</th>\n",
       "      <th>pitches_per_game</th>\n",
       "      <th>pitcher_break_z</th>\n",
       "      <th>league_break_z</th>\n",
       "      <th>diff_z</th>\n",
       "      <th>rise</th>\n",
       "      <th>...</th>\n",
       "      <th>ba</th>\n",
       "      <th>slg</th>\n",
       "      <th>woba</th>\n",
       "      <th>whiff_percent</th>\n",
       "      <th>k_percent</th>\n",
       "      <th>put_away</th>\n",
       "      <th>est_ba</th>\n",
       "      <th>est_slg</th>\n",
       "      <th>est_woba</th>\n",
       "      <th>hard_hit_percent</th>\n",
       "    </tr>\n",
       "  </thead>\n",
       "  <tbody>\n",
       "    <tr>\n",
       "      <th>count</th>\n",
       "      <td>3426.000000</td>\n",
       "      <td>3426.000000</td>\n",
       "      <td>3426.000000</td>\n",
       "      <td>3426.000000</td>\n",
       "      <td>3426.000000</td>\n",
       "      <td>3426.000000</td>\n",
       "      <td>3426.000000</td>\n",
       "      <td>3426.000000</td>\n",
       "      <td>3426.000000</td>\n",
       "      <td>3426.000000</td>\n",
       "      <td>...</td>\n",
       "      <td>3426.000000</td>\n",
       "      <td>3426.000000</td>\n",
       "      <td>3426.000000</td>\n",
       "      <td>3426.000000</td>\n",
       "      <td>3426.000000</td>\n",
       "      <td>3425.000000</td>\n",
       "      <td>3426.000000</td>\n",
       "      <td>3426.000000</td>\n",
       "      <td>3426.000000</td>\n",
       "      <td>3426.000000</td>\n",
       "    </tr>\n",
       "    <tr>\n",
       "      <th>mean</th>\n",
       "      <td>2021.499124</td>\n",
       "      <td>606482.857268</td>\n",
       "      <td>87.764361</td>\n",
       "      <td>364.442790</td>\n",
       "      <td>1398.770870</td>\n",
       "      <td>8.636102</td>\n",
       "      <td>30.156509</td>\n",
       "      <td>-30.062580</td>\n",
       "      <td>-0.100671</td>\n",
       "      <td>-0.687099</td>\n",
       "      <td>...</td>\n",
       "      <td>0.241151</td>\n",
       "      <td>0.397412</td>\n",
       "      <td>0.317387</td>\n",
       "      <td>26.413631</td>\n",
       "      <td>23.003269</td>\n",
       "      <td>18.768905</td>\n",
       "      <td>0.240226</td>\n",
       "      <td>0.392156</td>\n",
       "      <td>0.308306</td>\n",
       "      <td>36.947636</td>\n",
       "    </tr>\n",
       "    <tr>\n",
       "      <th>std</th>\n",
       "      <td>0.500072</td>\n",
       "      <td>63372.240992</td>\n",
       "      <td>5.874571</td>\n",
       "      <td>270.752626</td>\n",
       "      <td>753.190338</td>\n",
       "      <td>4.650295</td>\n",
       "      <td>13.117999</td>\n",
       "      <td>12.705216</td>\n",
       "      <td>3.009087</td>\n",
       "      <td>10.840025</td>\n",
       "      <td>...</td>\n",
       "      <td>0.075510</td>\n",
       "      <td>0.147740</td>\n",
       "      <td>0.087737</td>\n",
       "      <td>10.375969</td>\n",
       "      <td>11.824378</td>\n",
       "      <td>6.794912</td>\n",
       "      <td>0.058325</td>\n",
       "      <td>0.122134</td>\n",
       "      <td>0.072453</td>\n",
       "      <td>10.822396</td>\n",
       "    </tr>\n",
       "    <tr>\n",
       "      <th>min</th>\n",
       "      <td>2021.000000</td>\n",
       "      <td>425794.000000</td>\n",
       "      <td>65.800000</td>\n",
       "      <td>32.000000</td>\n",
       "      <td>486.000000</td>\n",
       "      <td>3.000000</td>\n",
       "      <td>8.200000</td>\n",
       "      <td>-73.500000</td>\n",
       "      <td>-14.400000</td>\n",
       "      <td>-52.000000</td>\n",
       "      <td>...</td>\n",
       "      <td>0.000000</td>\n",
       "      <td>0.000000</td>\n",
       "      <td>0.000000</td>\n",
       "      <td>0.000000</td>\n",
       "      <td>0.000000</td>\n",
       "      <td>0.000000</td>\n",
       "      <td>0.041000</td>\n",
       "      <td>0.059000</td>\n",
       "      <td>0.071000</td>\n",
       "      <td>0.000000</td>\n",
       "    </tr>\n",
       "    <tr>\n",
       "      <th>25%</th>\n",
       "      <td>2021.000000</td>\n",
       "      <td>572971.000000</td>\n",
       "      <td>83.700000</td>\n",
       "      <td>171.000000</td>\n",
       "      <td>815.000000</td>\n",
       "      <td>5.030864</td>\n",
       "      <td>18.900000</td>\n",
       "      <td>-36.600000</td>\n",
       "      <td>-1.900000</td>\n",
       "      <td>-7.000000</td>\n",
       "      <td>...</td>\n",
       "      <td>0.193000</td>\n",
       "      <td>0.300000</td>\n",
       "      <td>0.261000</td>\n",
       "      <td>18.600000</td>\n",
       "      <td>14.400000</td>\n",
       "      <td>14.300000</td>\n",
       "      <td>0.202000</td>\n",
       "      <td>0.312000</td>\n",
       "      <td>0.259000</td>\n",
       "      <td>30.000000</td>\n",
       "    </tr>\n",
       "    <tr>\n",
       "      <th>50%</th>\n",
       "      <td>2021.000000</td>\n",
       "      <td>621244.000000</td>\n",
       "      <td>87.600000</td>\n",
       "      <td>292.000000</td>\n",
       "      <td>1086.000000</td>\n",
       "      <td>6.703704</td>\n",
       "      <td>29.100000</td>\n",
       "      <td>-29.600000</td>\n",
       "      <td>-0.100000</td>\n",
       "      <td>0.000000</td>\n",
       "      <td>...</td>\n",
       "      <td>0.239000</td>\n",
       "      <td>0.387000</td>\n",
       "      <td>0.315000</td>\n",
       "      <td>25.500000</td>\n",
       "      <td>21.750000</td>\n",
       "      <td>18.800000</td>\n",
       "      <td>0.240000</td>\n",
       "      <td>0.385000</td>\n",
       "      <td>0.307000</td>\n",
       "      <td>36.900000</td>\n",
       "    </tr>\n",
       "    <tr>\n",
       "      <th>75%</th>\n",
       "      <td>2022.000000</td>\n",
       "      <td>657376.000000</td>\n",
       "      <td>92.900000</td>\n",
       "      <td>479.000000</td>\n",
       "      <td>1946.250000</td>\n",
       "      <td>12.013889</td>\n",
       "      <td>37.575000</td>\n",
       "      <td>-19.600000</td>\n",
       "      <td>1.700000</td>\n",
       "      <td>6.000000</td>\n",
       "      <td>...</td>\n",
       "      <td>0.288000</td>\n",
       "      <td>0.479000</td>\n",
       "      <td>0.372000</td>\n",
       "      <td>33.100000</td>\n",
       "      <td>30.500000</td>\n",
       "      <td>22.900000</td>\n",
       "      <td>0.278000</td>\n",
       "      <td>0.464000</td>\n",
       "      <td>0.355000</td>\n",
       "      <td>44.300000</td>\n",
       "    </tr>\n",
       "    <tr>\n",
       "      <th>max</th>\n",
       "      <td>2022.000000</td>\n",
       "      <td>693821.000000</td>\n",
       "      <td>100.800000</td>\n",
       "      <td>1861.000000</td>\n",
       "      <td>3274.000000</td>\n",
       "      <td>20.209877</td>\n",
       "      <td>74.300000</td>\n",
       "      <td>-9.300000</td>\n",
       "      <td>10.300000</td>\n",
       "      <td>41.000000</td>\n",
       "      <td>...</td>\n",
       "      <td>0.568000</td>\n",
       "      <td>1.231000</td>\n",
       "      <td>0.750000</td>\n",
       "      <td>66.900000</td>\n",
       "      <td>84.800000</td>\n",
       "      <td>57.100000</td>\n",
       "      <td>0.534000</td>\n",
       "      <td>1.088000</td>\n",
       "      <td>0.675000</td>\n",
       "      <td>76.900000</td>\n",
       "    </tr>\n",
       "  </tbody>\n",
       "</table>\n",
       "<p>8 rows × 29 columns</p>\n",
       "</div>"
      ],
      "text/plain": [
       "              year     pitcher_id    avg_speed  pitches_thrown  total_pitches  \\\n",
       "count  3426.000000    3426.000000  3426.000000     3426.000000    3426.000000   \n",
       "mean   2021.499124  606482.857268    87.764361      364.442790    1398.770870   \n",
       "std       0.500072   63372.240992     5.874571      270.752626     753.190338   \n",
       "min    2021.000000  425794.000000    65.800000       32.000000     486.000000   \n",
       "25%    2021.000000  572971.000000    83.700000      171.000000     815.000000   \n",
       "50%    2021.000000  621244.000000    87.600000      292.000000    1086.000000   \n",
       "75%    2022.000000  657376.000000    92.900000      479.000000    1946.250000   \n",
       "max    2022.000000  693821.000000   100.800000     1861.000000    3274.000000   \n",
       "\n",
       "       pitches_per_game  pitcher_break_z  league_break_z       diff_z  \\\n",
       "count       3426.000000      3426.000000     3426.000000  3426.000000   \n",
       "mean           8.636102        30.156509      -30.062580    -0.100671   \n",
       "std            4.650295        13.117999       12.705216     3.009087   \n",
       "min            3.000000         8.200000      -73.500000   -14.400000   \n",
       "25%            5.030864        18.900000      -36.600000    -1.900000   \n",
       "50%            6.703704        29.100000      -29.600000    -0.100000   \n",
       "75%           12.013889        37.575000      -19.600000     1.700000   \n",
       "max           20.209877        74.300000       -9.300000    10.300000   \n",
       "\n",
       "              rise  ...           ba          slg         woba  whiff_percent  \\\n",
       "count  3426.000000  ...  3426.000000  3426.000000  3426.000000    3426.000000   \n",
       "mean     -0.687099  ...     0.241151     0.397412     0.317387      26.413631   \n",
       "std      10.840025  ...     0.075510     0.147740     0.087737      10.375969   \n",
       "min     -52.000000  ...     0.000000     0.000000     0.000000       0.000000   \n",
       "25%      -7.000000  ...     0.193000     0.300000     0.261000      18.600000   \n",
       "50%       0.000000  ...     0.239000     0.387000     0.315000      25.500000   \n",
       "75%       6.000000  ...     0.288000     0.479000     0.372000      33.100000   \n",
       "max      41.000000  ...     0.568000     1.231000     0.750000      66.900000   \n",
       "\n",
       "         k_percent     put_away       est_ba      est_slg     est_woba  \\\n",
       "count  3426.000000  3425.000000  3426.000000  3426.000000  3426.000000   \n",
       "mean     23.003269    18.768905     0.240226     0.392156     0.308306   \n",
       "std      11.824378     6.794912     0.058325     0.122134     0.072453   \n",
       "min       0.000000     0.000000     0.041000     0.059000     0.071000   \n",
       "25%      14.400000    14.300000     0.202000     0.312000     0.259000   \n",
       "50%      21.750000    18.800000     0.240000     0.385000     0.307000   \n",
       "75%      30.500000    22.900000     0.278000     0.464000     0.355000   \n",
       "max      84.800000    57.100000     0.534000     1.088000     0.675000   \n",
       "\n",
       "       hard_hit_percent  \n",
       "count       3426.000000  \n",
       "mean          36.947636  \n",
       "std           10.822396  \n",
       "min            0.000000  \n",
       "25%           30.000000  \n",
       "50%           36.900000  \n",
       "75%           44.300000  \n",
       "max           76.900000  \n",
       "\n",
       "[8 rows x 29 columns]"
      ]
     },
     "metadata": {},
     "output_type": "display_data"
    },
    {
     "data": {
      "text/plain": [
       "0"
      ]
     },
     "metadata": {},
     "output_type": "display_data"
    }
   ],
   "source": [
    "#check for appropriate data-types, missing values and duplicated rows.\n",
    "arsenal.info()\n",
    "display(arsenal.describe())\n",
    "display(arsenal.duplicated().sum())"
   ]
  },
  {
   "cell_type": "markdown",
   "id": "ac183c85",
   "metadata": {},
   "source": [
    "The info method reveals that the data types are appropriate and there are no missing values in any column. <br>\n",
    "The duplicated method verifies that there are no duplicated rows."
   ]
  },
  {
   "cell_type": "code",
   "execution_count": 4,
   "id": "06ac0669",
   "metadata": {},
   "outputs": [
    {
     "name": "stderr",
     "output_type": "stream",
     "text": [
      "2023-04-04 12:56:54.000 \n",
      "  \u001b[33m\u001b[1mWarning:\u001b[0m to view this Streamlit app on a browser, run it with the following\n",
      "  command:\n",
      "\n",
      "    streamlit run C:\\Users\\AFM\\anaconda3\\lib\\site-packages\\ipykernel_launcher.py [ARGUMENTS]\n"
     ]
    }
   ],
   "source": [
    "#create a header for the streamlit page with an option to filter the data with two select boxes\n",
    "#users can decide what year they would like to observes as well as what distinct pitch they would like data on\n",
    "\n",
    "st.header('MLB pitch comp app')\n",
    "\n",
    "st.write(\"\"\"\n",
    "##### Use velocity and movement filters to discover comparable pitches\n",
    "\"\"\")\n",
    "\n",
    "year_array = arsenal['year'].unique()\n",
    "selected_year = st.selectbox(\n",
    "    \"What year would you like to observe?\", \n",
    "    year_array)\n",
    "\n",
    "pitch_type_array = arsenal['pitch_type_name'].unique()\n",
    "pitch_type = st.selectbox(\n",
    "    'Select Pitch:', \n",
    "    pitch_type_array)"
   ]
  },
  {
   "cell_type": "markdown",
   "id": "b98eb84d",
   "metadata": {},
   "source": [
    "These select boxes are necessary to give the data proper context. Comparing pitches across years and components pitch types to each other will make the analysis of very little value."
   ]
  },
  {
   "cell_type": "code",
   "execution_count": 5,
   "id": "eb2f177d",
   "metadata": {},
   "outputs": [],
   "source": [
    "#create sliders for pitch velocity and movement components\n",
    "#use min/max on the data to limit the sliders\n",
    "\n",
    "min_velo, max_velo=int(arsenal['avg_speed'].min()),int(arsenal['avg_speed'].max()+1)\n",
    "\n",
    "velo_range = st.slider(\n",
    "    \"Choose Velocity Range\", \n",
    "    value=(min_velo,max_velo),\n",
    "    min_value=min_velo,max_value=max_velo)\n",
    "\n",
    "min_vert, max_vert=arsenal['percent_rank_diff_z'].min(),arsenal['percent_rank_diff_z'].max()\n",
    "\n",
    "vert_range = st.slider(\n",
    "    \"Choose Rise/Drop % vs. League Average\", \n",
    "    value=(float(min_vert),float(max_vert)),\n",
    "    min_value=float(min_vert),max_value=float(max_vert))\n",
    "\n",
    "min_break, max_break=arsenal['percent_rank_diff_x'].min(),arsenal['percent_rank_diff_x'].max()\n",
    "\n",
    "break_range = st.slider(\n",
    "    \"Choose Break % vs. League Average\",\n",
    "    value=(float(min_break),float(max_break)),\n",
    "    min_value=float(min_break),max_value=float(max_break))"
   ]
  },
  {
   "cell_type": "markdown",
   "id": "b70dec38",
   "metadata": {},
   "source": [
    "The sliders make it really easy to get grup similar pitches. When you know your target pitch type, velocity and movement components; you can just select a range around that and easily filter the large data set to similar pitches."
   ]
  },
  {
   "cell_type": "code",
   "execution_count": 6,
   "id": "4e70ab97",
   "metadata": {
    "scrolled": true
   },
   "outputs": [
    {
     "data": {
      "text/plain": [
       "DeltaGenerator(_root_container=0, _provided_cursor=None, _parent=None, _block_type=None, _form_data=None)"
      ]
     },
     "execution_count": 6,
     "metadata": {},
     "output_type": "execute_result"
    }
   ],
   "source": [
    "#filter the original data with the constraints applied from the sliders\n",
    "\n",
    "filtered_pitchers=arsenal[(\n",
    "    arsenal.year==selected_year) & (\n",
    "    arsenal.pitch_type_name==pitch_type) & (\n",
    "    arsenal.avg_speed<velo_range[1]) & (\n",
    "    arsenal.avg_speed>velo_range[0]) & (\n",
    "    arsenal.percent_rank_diff_z<vert_range[1]) & (\n",
    "    arsenal.percent_rank_diff_z>vert_range[0]) & (\n",
    "    arsenal.percent_rank_diff_x<break_range[1]) & (\n",
    "    arsenal.percent_rank_diff_x>break_range[0])]\n",
    "\n",
    "st.table(filtered_pitchers)"
   ]
  },
  {
   "cell_type": "markdown",
   "id": "56bbf332",
   "metadata": {},
   "source": [
    "The filtering and printing of this table produces an easy to read summary of the pitchers that throw comparable pitches"
   ]
  },
  {
   "cell_type": "code",
   "execution_count": 31,
   "id": "51d7b97d",
   "metadata": {},
   "outputs": [],
   "source": [
    "#create a summary of means for the outputs of the filtered data\n",
    "summary_stats = {'Mean': [(round(filtered_pitchers['whiff_percent'].mean(),1)), (round(filtered_pitchers['woba'].mean(),3)), (round(filtered_pitchers['run_value_per_100'].mean(),3))]}\n",
    "\n",
    "summary_stats_df = pd.DataFrame(summary_stats, index=['whiff percent', 'woba', 'run value per 100'])\n"
   ]
  },
  {
   "cell_type": "code",
   "execution_count": 33,
   "id": "e687d485",
   "metadata": {},
   "outputs": [
    {
     "data": {
      "text/plain": [
       "DeltaGenerator(_root_container=0, _provided_cursor=None, _parent=None, _block_type=None, _form_data=None)"
      ]
     },
     "execution_count": 33,
     "metadata": {},
     "output_type": "execute_result"
    }
   ],
   "source": [
    "st.table(summary_stats_df)"
   ]
  },
  {
   "cell_type": "markdown",
   "id": "8cbe00bf",
   "metadata": {},
   "source": [
    "This table creates a quick and valuable summary of what types of outcome you can generally expect from the given input components. The scatterplot below will give insight to the variance."
   ]
  },
  {
   "cell_type": "code",
   "execution_count": 7,
   "id": "01705e60",
   "metadata": {
    "scrolled": false
   },
   "outputs": [
    {
     "data": {
      "text/plain": [
       "DeltaGenerator(_root_container=0, _provided_cursor=None, _parent=None, _block_type=None, _form_data=None)"
      ]
     },
     "execution_count": 7,
     "metadata": {},
     "output_type": "execute_result"
    }
   ],
   "source": [
    "#offer a scatter plot to chart the relationship between the components of a pitch and the results of the pitch\n",
    "\n",
    "st.header('Outcome analysis')\n",
    "st.write(\"\"\"\n",
    "###### Use the filtered data to plot an outcome statistic vs. velocity or a movement metric\n",
    "z = vertical movement, x = horizontal movement\n",
    "\"\"\")\n",
    "\n",
    "\n",
    "fig1_x_axis=['avg_speed','percent_rank_diff_z','percent_rank_diff_x']\n",
    "fig1_y_axis=['whiff_percent','run_value_per_100','woba']\n",
    "\n",
    "fig1_x_choice = st.selectbox(\n",
    "    'Input Metric: ', \n",
    "    fig1_x_axis)\n",
    "fig1_y_choice = st.selectbox(\n",
    "    'Output Metric: ', \n",
    "    fig1_y_axis)\n",
    "\n",
    "fig1 = px.scatter(\n",
    "    filtered_pitchers, \n",
    "    x=fig1_x_choice, \n",
    "    y=fig1_y_choice,\n",
    "    hover_data=['name'])\n",
    "\n",
    "fig1.update_layout(\n",
    "title=\"<b> {} vs {} </b>\".format(fig1_y_choice, fig1_x_choice))\n",
    "\n",
    "st.plotly_chart(fig1)"
   ]
  },
  {
   "cell_type": "markdown",
   "id": "079d8e87",
   "metadata": {},
   "source": [
    "The scatterplot produced here is a very nice way to see correlation between the pitch components of the filtered data and their outcome. It's very interesting to see this displayed graphically with such little effort."
   ]
  },
  {
   "cell_type": "code",
   "execution_count": 8,
   "id": "8fb4ae57",
   "metadata": {},
   "outputs": [
    {
     "data": {
      "text/plain": [
       "DeltaGenerator(_root_container=0, _provided_cursor=None, _parent=None, _block_type=None, _form_data=None)"
      ]
     },
     "execution_count": 8,
     "metadata": {},
     "output_type": "execute_result"
    }
   ],
   "source": [
    "#offer an interactive histogram to let users see how the distribution of outcomes differs by pitch type\n",
    "\n",
    "st.header('What pitches are getting the results?')\n",
    "st.write(\"\"\"\n",
    "###### Use the full data set to map out a distribution of each pitch type vs. its outcome\n",
    "\"\"\")\n",
    "\n",
    "\n",
    "fig2_x_axis=fig1_y_axis\n",
    "\n",
    "fig2_choice = st.selectbox(\n",
    "    'Outcome Metric: ',\n",
    "    fig2_x_axis)\n",
    "\n",
    "fig2 = px.histogram(arsenal, x=fig2_choice, color='pitch_type')\n",
    "\n",
    "fig2.update_layout(\n",
    "title=\"<b> Distribituion of Pitch Types by {} </b>\".format(fig2_choice))\n",
    "\n",
    "st.plotly_chart(fig2)"
   ]
  },
  {
   "cell_type": "markdown",
   "id": "bb4ef9af",
   "metadata": {},
   "source": [
    "This histogram is an attempt to give insight as to which pitch types in general produce better results by counting them within the range of outputs."
   ]
  },
  {
   "cell_type": "markdown",
   "id": "9e02ca2f",
   "metadata": {},
   "source": [
    "#### Conclusions and future update potential\n",
    "I'm generally very happy with the app and streamlit. For the most part I was able to achieve the goals that I targetted. I've even used the webapp with friends to test real life comparisons and it seems accurate. <br> Unfortunately, I was unable to add trendlines to the scatterplots. I think there is a bug in the streamlit compatibility because the attribute (trendline=\"ols\") would work with a call on the fig1, but not when called through streamlit. This trendline would make the analysis of the correlation between outputs and inputs much easier. It's something I want to try to explore in the future to update the project with. <br> I'd like to update this dataframw with 2023 pitches as they become available and explore a way for the df to be automatically downloaded via api."
   ]
  },
  {
   "cell_type": "code",
   "execution_count": null,
   "id": "46a8aa5d",
   "metadata": {},
   "outputs": [],
   "source": []
  }
 ],
 "metadata": {
  "kernelspec": {
   "display_name": "Python 3 (ipykernel)",
   "language": "python",
   "name": "python3"
  },
  "language_info": {
   "codemirror_mode": {
    "name": "ipython",
    "version": 3
   },
   "file_extension": ".py",
   "mimetype": "text/x-python",
   "name": "python",
   "nbconvert_exporter": "python",
   "pygments_lexer": "ipython3",
   "version": "3.9.13"
  }
 },
 "nbformat": 4,
 "nbformat_minor": 5
}
